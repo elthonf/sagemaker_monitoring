{
 "cells": [
  {
   "cell_type": "markdown",
   "metadata": {},
   "source": [
    "# Consumo do modelo de Advanced Analitics\n",
    "\n",
    "`keywords.: serving, deploy`\n",
    "\n",
    "Este notebook tem as instruções que simulam o consumo de um modelo de machine learning em ambiente do AWS SageMaker.\n"
   ]
  },
  {
   "cell_type": "markdown",
   "metadata": {},
   "source": [
    "## Setup\n",
    "\n",
    "Seção com a preparação das variáveis do processo de predição.\n",
    "\n",
    "`Ref. Tempo esperado de execução: 2,15s`\n"
   ]
  },
  {
   "cell_type": "code",
   "execution_count": 2,
   "metadata": {
    "isConfigCell": true
   },
   "outputs": [
    {
     "name": "stdout",
     "output_type": "stream",
     "text": [
      "RoleArn: arn:aws:iam::325011675573:role/service-role/AmazonSageMaker-ExecutionRole-20201008T200444\n",
      "Bucket a ser usado: sagemaker-us-east-2-325011675573\n",
      "Path de captura dos dados: s3://sagemaker-us-east-2-325011675573/sagemaker/DEMO-ModelMonitor/datacapture\n",
      "Path dos relatórios: s3://sagemaker-us-east-2-325011675573/sagemaker/DEMO-ModelMonitor/reports\n",
      "Path para código de pré-proc: s3://sagemaker-us-east-2-325011675573/sagemaker/DEMO-ModelMonitor/code/preprocessor.py\n",
      "Path para código de pós-proc: s3://sagemaker-us-east-2-325011675573/sagemaker/DEMO-ModelMonitor/code/postprocessor.py\n",
      "\n",
      "\n",
      "CPU times: user 711 ms, sys: 140 ms, total: 851 ms\n",
      "Wall time: 1.31 s\n"
     ]
    }
   ],
   "source": [
    "%%time\n",
    "\n",
    "# Célula de configurações\n",
    "\n",
    "import os\n",
    "import boto3\n",
    "import re\n",
    "import json\n",
    "from sagemaker import get_execution_role, session\n",
    "\n",
    "region = boto3.Session().region_name\n",
    "\n",
    "role = get_execution_role()\n",
    "print(\"RoleArn: {}\".format(role))\n",
    "\n",
    "# Você pode usar um bucket, mas certifique-se de que a permissão que escolheu para este notebook\n",
    "# contempla s3:PutObject . Este é o bucket no qual os dados são capturados\n",
    "bucket = session.Session(boto3.Session()).default_bucket()\n",
    "print(\"Bucket a ser usado: {}\".format(bucket))\n",
    "prefix = \"sagemaker/DEMO-ModelMonitor\"\n",
    "\n",
    "data_capture_prefix = \"{}/datacapture\".format(prefix)\n",
    "s3_capture_upload_path = \"s3://{}/{}\".format(bucket, data_capture_prefix)\n",
    "reports_prefix = \"{}/reports\".format(prefix)\n",
    "s3_report_path = \"s3://{}/{}\".format(bucket, reports_prefix)\n",
    "code_prefix = \"{}/code\".format(prefix)\n",
    "s3_code_preprocessor_uri = \"s3://{}/{}/{}\".format(bucket, code_prefix, \"preprocessor.py\")\n",
    "s3_code_postprocessor_uri = \"s3://{}/{}/{}\".format(bucket, code_prefix, \"postprocessor.py\")\n",
    "\n",
    "print(\"Path de captura dos dados: {}\".format(s3_capture_upload_path))\n",
    "print(\"Path dos relatórios: {}\".format(s3_report_path))\n",
    "print(\"Path para código de pré-proc: {}\".format(s3_code_preprocessor_uri))\n",
    "print(\"Path para código de pós-proc: {}\".format(s3_code_postprocessor_uri))\n",
    "print(\"\\n\")"
   ]
  },
  {
   "cell_type": "code",
   "execution_count": 3,
   "metadata": {},
   "outputs": [],
   "source": [
    "from sagemaker.predictor import Predictor\n",
    "from sagemaker.serializers import CSVSerializer\n",
    "import time"
   ]
  },
  {
   "cell_type": "markdown",
   "metadata": {},
   "source": [
    "## Chamada do modelo\n",
    "\n",
    "Agora vamos enviar dados a este endpoint para obter inferências em tempo real. Como ativamos a captura de dados nas etapas anteriores, a carga útil de solicitação e resposta, junto com alguns metadados adicionais, é salva no local do Amazon Simple Storage Service (Amazon S3) que você especificou no DataCaptureConfig."
   ]
  },
  {
   "cell_type": "markdown",
   "metadata": {},
   "source": [
    "Esta etapa chama o processo de scoring para 180 registros de exemplo. Os dados são capturados com base na porcentagem de amostragem especificada e a captura continua até que a opção de captura de dados seja desligada."
   ]
  },
  {
   "cell_type": "code",
   "execution_count": 4,
   "metadata": {},
   "outputs": [],
   "source": [
    "endpoint_name = \"DEMO-xgb-churn-pred-model-monitor-2021-09-16-16-37-14\""
   ]
  },
  {
   "cell_type": "code",
   "execution_count": 12,
   "metadata": {},
   "outputs": [
    {
     "name": "stdout",
     "output_type": "stream",
     "text": [
      "Sending test traffic to the endpoint DEMO-xgb-churn-pred-model-monitor-2021-09-16-16-37-14. \n",
      "Please wait...\n",
      "Primeiro pedido [1]:\n",
      "\n",
      "186,0.1,137.8,97,187.7,118,146.4,85,8.7,6,1,0.2,0.3,0.4,0.5,0.6,0.7,0.8,0.9,0.10,0.11,0.12,0.13,0.14,0.15,0.16,0.17,1.1,0.18,0.19,0.20,0.21,0.22,0.23,0.24,0.25,0.26,0.27,0.28,0.29,0.30,0.31,0.32,0.33,0.34,0.35,0.36,0.37,0.38,0.39,0.40,0.41,0.42,0.43,0.44,0.45,0.46,0.47,0.48,0.49,0.50,0.51,0.52,0.53,1.2,1.3,0.54,1.4,0.55\n",
      "\n",
      " Resposta: b'0.04491584002971649' \n",
      "\n",
      "Último pedido [180]:\n",
      "\n",
      "113,32,180.4,89,129.4,124,166.9,124,8.4,2,1,0,0,0,1,0,0,0,0,0,0,0,0,0,0,0,0,0,0,0,0,0,0,0,0,0,0,0,0,0,0,0,0,0,0,0,0,0,0,0,0,0,0,0,0,0,0,0,0,0,0,0,0,1,0,1,0,0,1\n",
      "\n",
      "Resposta: b'0.03876146301627159' \n",
      "\n"
     ]
    }
   ],
   "source": [
    "predictor = Predictor(endpoint_name=endpoint_name, serializer=CSVSerializer())\n",
    "\n",
    "# Obtém um subconjunto de dados de teste para um teste rápido\n",
    "!head -180 test_data/test-dataset-input-cols.csv > test_data/test_sample.csv\n",
    "print(\"Sending test traffic to the endpoint {}. \\nPlease wait...\".format(endpoint_name))\n",
    "\n",
    "i = 0\n",
    "with open(\"test_data/test_sample.csv\", \"r\") as f:\n",
    "    for row in f:\n",
    "        i = i + 1\n",
    "        response = predictor.predict(data=payload)\n",
    "        \n",
    "        payload = row.rstrip(\"\\n\")\n",
    "        if i == 1:\n",
    "            print(\"Primeiro pedido [{}]:\\n\".format(i))\n",
    "            print(payload)\n",
    "            print(\"\\n Resposta: {} \\n\".format(response))\n",
    "        \n",
    "print(\"Último pedido [{}]:\\n\".format(i))\n",
    "print(payload)\n",
    "print(\"\\nResposta: {} \\n\".format(response))\n",
    "\n"
   ]
  },
  {
   "cell_type": "markdown",
   "metadata": {},
   "source": [
    "## Ver os dados capturados\n",
    "\n",
    "Agora listamos os arquivos de captura de dados armazenados no Amazon S3.\n",
    "\n",
    "Você deve esperar para ver diferentes arquivos de diferentes períodos de tempo organizados com base na hora em que a chamada ocorreu. O formato do caminho do Amazon S3 é:\n",
    "\n",
    "`s3://{destination-bucket-prefix}/{endpoint-name}/{variant-name}/yyyy/mm/dd/hh/filename.jsonl`"
   ]
  },
  {
   "cell_type": "code",
   "execution_count": 13,
   "metadata": {
    "scrolled": true
   },
   "outputs": [
    {
     "name": "stdout",
     "output_type": "stream",
     "text": [
      "Found Capture Files:\n",
      "sagemaker/DEMO-ModelMonitor/datacapture/DEMO-xgb-churn-pred-model-monitor-2021-09-16-16-37-14/AllTraffic/2021/09/16/18/27-57-976-96fceca0-900a-44c2-bba0-73127e65c70f.jsonl\n",
      " sagemaker/DEMO-ModelMonitor/datacapture/DEMO-xgb-churn-pred-model-monitor-2021-09-16-16-37-14/AllTraffic/2021/09/16/18/29-30-321-2260c27f-64cb-4fa9-9936-66ebc0043683.jsonl\n"
     ]
    }
   ],
   "source": [
    "s3_client = boto3.Session().client(\"s3\")\n",
    "current_endpoint_capture_prefix = \"{}/{}\".format(data_capture_prefix, endpoint_name)\n",
    "result = s3_client.list_objects(Bucket=bucket, Prefix=current_endpoint_capture_prefix)\n",
    "capture_files = [capture_file.get(\"Key\") for capture_file in result.get(\"Contents\")]\n",
    "print(\"Found Capture Files:\")\n",
    "print(\"\\n \".join(capture_files))"
   ]
  },
  {
   "cell_type": "markdown",
   "metadata": {},
   "source": [
    "Em seguida, veremos o conteúdo de um único arquivo de captura. Aqui podemos ver todos os dados capturados em um arquivo formatado em linha JSON específico do Amazon SageMaker.\n",
    "\n",
    "Dê uma olhada rápida nas primeiras linhas do arquivo capturado (em texto em em json)."
   ]
  },
  {
   "cell_type": "code",
   "execution_count": 15,
   "metadata": {},
   "outputs": [
    {
     "name": "stdout",
     "output_type": "stream",
     "text": [
      "{\"captureData\":{\"endpointInput\":{\"observedContentType\":\"text/csv\",\"mode\":\"INPUT\",\"data\":\"113,32,180.4,89,129.4,124,166.9,124,8.4,2,1,0,0,0,1,0,0,0,0,0,0,0,0,0,0,0,0,0,0,0,0,0,0,0,0,0,0,0,0,0,0,0,0,0,0,0,0,0,0,0,0,0,0,0,0,0,0,0,0,0,0,0,0,1,0,1,0,0,1\",\"encoding\":\"CSV\"},\"endpointOutput\":{\"observedContentType\":\"text/csv; charset=utf-8\",\"mode\":\"OUTPUT\",\"data\":\"0.04491584002971649\",\"encoding\":\"CSV\"}},\"eventMetadata\":{\"eventId\":\"6d32fec1-a7df-4198-8430-9186f3294258\",\"inferenceTime\":\"2021-09-16T18:29:30Z\"},\"eventVersion\":\"0\"}\n",
      "{\"captureData\":{\"endpointInput\":{\"observedContentType\":\"text/csv\",\"mode\":\"INPUT\",\"data\":\"186,0.1,137.8,97,187.7,118,146.4,85,8.7,6,1,0.2,0.3,0.4,0.5,0.6,0.7,0.8,0.9,0.10,0.11,0.12,0.13,0.14,0.15,0.16,0.17,1.1,0.18,0.19,0.20,0.21,0.22,0.23,0.24,0.25,0.26,0.27,0.28,0.29,0.30,0.31,0.32,0.33,0.34,0.35,0.36,0.37,0.38,0.39,0.40,0.41,0.42,0.43,0.44,0.45,0.46,0.47,0.48,0.49,0.50,0.51,0.52,0.53,1.2,1.3,0.54,1.4,0.55\",\"encoding\":\"CSV\"},\"endpointOutput\":{\"observedContentType\":\"text/csv; charset=utf-8\",\"mode\":\"OUTPUT\",\"data\":\"0.01584203727543354\",\"encoding\":\"CSV\"}},\"eventMetadata\":{\"eventId\":\"3951cb35-d60a-4e07-829f-0414caa27fec\",\"inferenceTime\":\"2021-09-16T18:29:30Z\"},\"eventVersion\":\"0\"}\n",
      "{\"captureData\":{\"endpointInput\":{\"observedContentType\":\"text/csv\",\"mode\":\"INPUT\",\"data\":\"132,25,113.2,96,269.9,107,229.1,87,7.1,7,2,0,0,0,0,0,0,0,0,0,0,0,0,0,0,0,0,0,0,0,1,0,0,0,0,0,0,0,0,0,0,0,0,0,0,0,0,0,0,0,0,0,0,0,0,0,0,0,0,0,0,0,0,1,0,1,0,0,1\",\"encoding\":\"CSV\"},\"endpointOutput\":{\"observedContentType\":\"text/csv; charset=utf-8\",\"mode\":\"OUTPUT\",\"data\":\"0.01076381653547287\",\"encoding\":\"CSV\"}},\"eventMetadata\":{\"eventId\":\"1618c8c6-735e-46bc-be11-264d450dbc5e\",\"inferenceTime\":\"2021-09-16T18:29:30Z\"},\"eventVersion\":\"0\"}\n",
      "{\"captureData\":{\"endpointInput\":{\"observedContentType\":\"text/csv\",\"mode\":\"INPUT\",\"data\":\"112,17,183.2,95,252.8,125,156.7,95,9.7,3,0,0,0,0,0,0,0,0,0,0,0,0,0,0,0,0,0,0,0,0,1,0,0,0,0,0,0,0,0,0,0,0,0,0,0,0,0,0,0,0,0,0,0,0,0,0,0,0,0,0,0,0,0,1,0,1,0,0,1\",\"encoding\":\"CSV\"},\n"
     ]
    }
   ],
   "source": [
    "def get_obj_body(obj_key):\n",
    "    return s3_client.get_object(Bucket=bucket, Key=obj_key).get(\"Body\").read().decode(\"utf-8\")\n",
    "\n",
    "capture_file = get_obj_body(capture_files[-1])\n",
    "print(capture_file[:2000])"
   ]
  },
  {
   "cell_type": "markdown",
   "metadata": {},
   "source": [
    "Finally, the contents of a single line is present below in a formatted JSON file so that you can observe a little better."
   ]
  },
  {
   "cell_type": "code",
   "execution_count": 16,
   "metadata": {
    "scrolled": true
   },
   "outputs": [
    {
     "name": "stdout",
     "output_type": "stream",
     "text": [
      "{\n",
      "  \"captureData\": {\n",
      "    \"endpointInput\": {\n",
      "      \"observedContentType\": \"text/csv\",\n",
      "      \"mode\": \"INPUT\",\n",
      "      \"data\": \"113,32,180.4,89,129.4,124,166.9,124,8.4,2,1,0,0,0,1,0,0,0,0,0,0,0,0,0,0,0,0,0,0,0,0,0,0,0,0,0,0,0,0,0,0,0,0,0,0,0,0,0,0,0,0,0,0,0,0,0,0,0,0,0,0,0,0,1,0,1,0,0,1\",\n",
      "      \"encoding\": \"CSV\"\n",
      "    },\n",
      "    \"endpointOutput\": {\n",
      "      \"observedContentType\": \"text/csv; charset=utf-8\",\n",
      "      \"mode\": \"OUTPUT\",\n",
      "      \"data\": \"0.04491584002971649\",\n",
      "      \"encoding\": \"CSV\"\n",
      "    }\n",
      "  },\n",
      "  \"eventMetadata\": {\n",
      "    \"eventId\": \"6d32fec1-a7df-4198-8430-9186f3294258\",\n",
      "    \"inferenceTime\": \"2021-09-16T18:29:30Z\"\n",
      "  },\n",
      "  \"eventVersion\": \"0\"\n",
      "}\n"
     ]
    }
   ],
   "source": [
    "import json\n",
    "\n",
    "print(json.dumps(json.loads(capture_file.split(\"\\n\")[0]), indent=2))"
   ]
  },
  {
   "cell_type": "markdown",
   "metadata": {},
   "source": [
    "Como você pode ver, cada solicitação de inferência é capturada em uma linha no arquivo json. A linha contém a entrada e a saída mescladas. No exemplo, fornecemos o ContentType como `text / csv`, que é refletido no valor `observedContentType`. Além disso, expomos a codificação que usou para codificar as cargas úteis de entrada e saída no formato de captura com o valor `encoding`.\n",
    "\n",
    "Para recapitular, você observou como pode ativar a captura das cargas úteis de entrada ou saída para um ponto de extremidade com um novo parâmetro. Você também observou a aparência do formato capturado no Amazon S3. Em seguida, continue a explorar como o Amazon SageMaker ajuda a monitorar os dados coletados no Amazon S3.\n",
    "\n",
    "---"
   ]
  },
  {
   "cell_type": "code",
   "execution_count": null,
   "metadata": {},
   "outputs": [],
   "source": []
  }
 ],
 "metadata": {
  "anaconda-cloud": {},
  "instance_type": "ml.t3.medium",
  "kernelspec": {
   "display_name": "Python 3 (Data Science)",
   "language": "python",
   "name": "python3__SAGEMAKER_INTERNAL__arn:aws:sagemaker:us-east-2:429704687514:image/datascience-1.0"
  },
  "language_info": {
   "codemirror_mode": {
    "name": "ipython",
    "version": 3
   },
   "file_extension": ".py",
   "mimetype": "text/x-python",
   "name": "python",
   "nbconvert_exporter": "python",
   "pygments_lexer": "ipython3",
   "version": "3.7.10"
  },
  "notice": "Copyright 2017 Amazon.com, Inc. or its affiliates. All Rights Reserved.  Licensed under the Apache License, Version 2.0 (the \"License\"). You may not use this file except in compliance with the License. A copy of the License is located at http://aws.amazon.com/apache2.0/ or in the \"license\" file accompanying this file. This file is distributed on an \"AS IS\" BASIS, WITHOUT WARRANTIES OR CONDITIONS OF ANY KIND, either express or implied. See the License for the specific language governing permissions and limitations under the License."
 },
 "nbformat": 4,
 "nbformat_minor": 4
}
