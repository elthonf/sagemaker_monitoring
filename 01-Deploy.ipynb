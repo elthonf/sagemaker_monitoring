{
 "cells": [
  {
   "cell_type": "markdown",
   "metadata": {},
   "source": [
    "# Entrega de modelo de Advanced Analitics\n",
    "\n",
    "`keywords.: serving, deploy`\n",
    "\n",
    "Este notebook tem as instruções principais para a realização da entrega de um modelo de machine learning em ambiente do AWS SageMaker.\n"
   ]
  },
  {
   "cell_type": "markdown",
   "metadata": {},
   "source": [
    "## Setup\n",
    "\n",
    "Seção com a preparação das variáveis do processo de deploy.\n",
    "\n",
    "`Ref. Tempo esperado de execução: 2,15s`\n"
   ]
  },
  {
   "cell_type": "code",
   "execution_count": 4,
   "metadata": {
    "isConfigCell": true
   },
   "outputs": [
    {
     "name": "stdout",
     "output_type": "stream",
     "text": [
      "RoleArn: arn:aws:iam::325011675573:role/service-role/AmazonSageMaker-ExecutionRole-20201008T200444\n",
      "Bucket a ser usado: sagemaker-us-east-2-325011675573\n",
      "Path de captura dos dados: s3://sagemaker-us-east-2-325011675573/sagemaker/DEMO-ModelMonitor/datacapture\n",
      "Path dos relatórios: s3://sagemaker-us-east-2-325011675573/sagemaker/DEMO-ModelMonitor/reports\n",
      "Path para código de pré-proc: s3://sagemaker-us-east-2-325011675573/sagemaker/DEMO-ModelMonitor/code/preprocessor.py\n",
      "Path para código de pós-proc: s3://sagemaker-us-east-2-325011675573/sagemaker/DEMO-ModelMonitor/code/postprocessor.py\n",
      "\n",
      "\n",
      "CPU times: user 162 ms, sys: 31.3 ms, total: 194 ms\n",
      "Wall time: 326 ms\n"
     ]
    }
   ],
   "source": [
    "%%time\n",
    "\n",
    "# Célula de configurações\n",
    "\n",
    "import os\n",
    "import boto3\n",
    "import re\n",
    "import json\n",
    "from sagemaker import get_execution_role, session\n",
    "\n",
    "region = boto3.Session().region_name\n",
    "\n",
    "role = get_execution_role()\n",
    "print(\"RoleArn: {}\".format(role))\n",
    "\n",
    "# Você pode usar um bucket, mas certifique-se de que a permissão que escolheu para este notebook\n",
    "# contempla s3:PutObject . Este é o bucket no qual os dados são capturados\n",
    "bucket = session.Session(boto3.Session()).default_bucket()\n",
    "print(\"Bucket a ser usado: {}\".format(bucket))\n",
    "prefix = \"sagemaker/FIAP-ModelMonitor\"\n",
    "\n",
    "data_capture_prefix = \"{}/datacapture\".format(prefix)\n",
    "s3_capture_upload_path = \"s3://{}/{}\".format(bucket, data_capture_prefix)\n",
    "reports_prefix = \"{}/reports\".format(prefix)\n",
    "s3_report_path = \"s3://{}/{}\".format(bucket, reports_prefix)\n",
    "code_prefix = \"{}/code\".format(prefix)\n",
    "s3_code_preprocessor_uri = \"s3://{}/{}/{}\".format(bucket, code_prefix, \"preprocessor.py\")\n",
    "s3_code_postprocessor_uri = \"s3://{}/{}/{}\".format(bucket, code_prefix, \"postprocessor.py\")\n",
    "\n",
    "print(\"Path de captura dos dados: {}\".format(s3_capture_upload_path))\n",
    "print(\"Path dos relatórios: {}\".format(s3_report_path))\n",
    "print(\"Path para código de pré-proc: {}\".format(s3_code_preprocessor_uri))\n",
    "print(\"Path para código de pós-proc: {}\".format(s3_code_postprocessor_uri))\n",
    "print(\"\\n\")"
   ]
  },
  {
   "cell_type": "markdown",
   "metadata": {},
   "source": [
    "A seguir, o arquivo `test_data/upload-test-file.txt` será enviado para o Bucket, na subpasta `test_upload/test.txt`\n",
    "\n",
    "`Ref. Tempo esperado de execução: 0,5s`"
   ]
  },
  {
   "cell_type": "code",
   "execution_count": 6,
   "metadata": {},
   "outputs": [
    {
     "name": "stdout",
     "output_type": "stream",
     "text": [
      "Sucesso! Podemos seguir em frente.\n",
      "CPU times: user 53.1 ms, sys: 14.4 ms, total: 67.5 ms\n",
      "Wall time: 122 ms\n"
     ]
    }
   ],
   "source": [
    "%%time\n",
    "\n",
    "\n",
    "boto3.Session().resource(\"s3\").Bucket(bucket).Object(\"test_upload/test.txt\").upload_file(\n",
    "    \"test_data/upload-test-file.txt\"\n",
    ")\n",
    "print(\"Sucesso! Podemos seguir em frente.\")"
   ]
  },
  {
   "cell_type": "markdown",
   "metadata": {},
   "source": [
    "## Upload do modelo treinado\n",
    "\n",
    "Este código carrega um modelo XGBoost pré-treinado pelo cientista de dados e que está pronto para ser implantado.  \n",
    "Este modelo foi treinado usando o XGBoos. Você também pode usar seu próprio modelo pré-treinado nesta etapa.\n",
    "\n",
    "Segundo o cientista de dados, o modelo treinado tem as seguintes características:\n",
    "- Arquivo: `model/xgb-churn-prediction-model.tar.gz`\n",
    "- Linguagem: `Python`\n",
    "- Versão da Linguagem: `3.X`\n",
    "- Framework: `xgboost`\n",
    "- Versão do Framework: `0.90-1`  \n",
    "\n",
    "`Ref. Tempo esperado de execução: 0,2s`"
   ]
  },
  {
   "cell_type": "code",
   "execution_count": 9,
   "metadata": {},
   "outputs": [
    {
     "name": "stdout",
     "output_type": "stream",
     "text": [
      "CPU times: user 49.8 ms, sys: 12.5 ms, total: 62.3 ms\n",
      "Wall time: 132 ms\n"
     ]
    }
   ],
   "source": [
    "%%time\n",
    "\n",
    "model_file = open(\"model/xgb-churn-prediction-model.tar.gz\", \"rb\")\n",
    "s3_key = os.path.join(prefix, \"xgb-churn-prediction-model.tar.gz\")\n",
    "boto3.Session().resource(\"s3\").Bucket(bucket).Object(s3_key).upload_fileobj(model_file)"
   ]
  },
  {
   "cell_type": "markdown",
   "metadata": {},
   "source": [
    "### Deploy do modelo para o Amazon SageMaker\n",
    "\n",
    "Os códigos a seguir farãp o deploy do modelo de previsão de churn pré-treinado. \n",
    "\n",
    "Nesta célula, criamos o objeto `modelo` com a imagem e os dados do modelo.\n",
    "\n",
    "\n",
    "`Ref. Tempo esperado de execução: 0,01s`"
   ]
  },
  {
   "cell_type": "code",
   "execution_count": 21,
   "metadata": {},
   "outputs": [
    {
     "name": "stdout",
     "output_type": "stream",
     "text": [
      "URI da imagem base: 257758044811.dkr.ecr.us-east-2.amazonaws.com/sagemaker-xgboost:0.90-1-cpu-py3\n",
      "URL do modelo: https://sagemaker-us-east-2-325011675573.s3-us-east-2.amazonaws.com/sagemaker/DEMO-ModelMonitor/xgb-churn-prediction-model.tar.gz \n",
      "\n",
      "CPU times: user 21.4 ms, sys: 96 µs, total: 21.5 ms\n",
      "Wall time: 66.5 ms\n"
     ]
    }
   ],
   "source": [
    "%%time\n",
    "\n",
    "from time import gmtime, strftime\n",
    "from sagemaker.model import Model\n",
    "from sagemaker.image_uris import retrieve\n",
    "\n",
    "model_name = \"DEMO-xgb-churn-pred-model-monitor-\" + strftime(\"%Y-%m-%d-%H-%M-%S\", gmtime())\n",
    "model_url = \"https://{}.s3-{}.amazonaws.com/{}/xgb-churn-prediction-model.tar.gz\".format(\n",
    "    bucket, region, prefix\n",
    ")\n",
    "\n",
    "image_uri = retrieve(\"xgboost\", boto3.Session().region_name, \"0.90-1\")\n",
    "\n",
    "modelo = Model(image_uri=image_uri, model_data=model_url, role=role)\n",
    "\n",
    "\n",
    "print(\"URI da imagem base: {}\".format(image_uri))\n",
    "print(\"URL do modelo: {} \\n\".format(model_url))"
   ]
  },
  {
   "cell_type": "markdown",
   "metadata": {},
   "source": [
    "Para habilitar a captura de dados para futuramente monitorar a qualidade dos dados do modelo, especificamos a opção de captura chamada `DataCaptureConfig`.\n",
    "\n",
    "Nós podemos capturar a carga da solicitação, a carga da resposta ou ambos com esta configuração.\n",
    "\n",
    "A configuração de captura se aplica a todas as variantes. Vá em frente com a implantação.\n",
    "\n",
    "`Ref. Tempo esperado de execução: 7m`"
   ]
  },
  {
   "cell_type": "code",
   "execution_count": 24,
   "metadata": {},
   "outputs": [
    {
     "name": "stdout",
     "output_type": "stream",
     "text": [
      "EndpointName=DEMO-xgb-churn-pred-model-monitor-2021-09-16-16-37-14\n",
      "-------------!CPU times: user 251 ms, sys: 25 ms, total: 276 ms\n",
      "Wall time: 6min 32s\n"
     ]
    }
   ],
   "source": [
    "%%time\n",
    "\n",
    "from sagemaker.model_monitor import DataCaptureConfig\n",
    "\n",
    "endpoint_name = \"DEMO-xgb-churn-pred-model-monitor-\" + strftime(\"%Y-%m-%d-%H-%M-%S\", gmtime())\n",
    "print(\"EndpointName: {}\".format(endpoint_name))\n",
    "\n",
    "data_capture_config = DataCaptureConfig(\n",
    "    enable_capture=True, sampling_percentage=100, destination_s3_uri=s3_capture_upload_path\n",
    ")\n",
    "\n",
    "predictor = modelo.deploy(\n",
    "    initial_instance_count=1,\n",
    "    instance_type=\"ml.m4.xlarge\",\n",
    "    endpoint_name=endpoint_name,\n",
    "    data_capture_config=data_capture_config,\n",
    ")\n",
    "print(\"\\n\")"
   ]
  },
  {
   "cell_type": "markdown",
   "metadata": {},
   "source": [
    "## Delete the resources\n",
    "\n",
    "You can keep your endpoint running to continue capturing data. If you do not plan to collect more data or use this endpoint further, you should delete the endpoint to avoid incurring additional charges. Note that deleting your endpoint does not delete the data that was captured during the model invocations. That data persists in Amazon S3 until you delete it yourself.\n",
    "\n",
    "But before that, you need to delete the schedule first."
   ]
  },
  {
   "cell_type": "code",
   "execution_count": null,
   "metadata": {
    "scrolled": true
   },
   "outputs": [],
   "source": [
    "predictor.delete_endpoint()"
   ]
  },
  {
   "cell_type": "code",
   "execution_count": null,
   "metadata": {},
   "outputs": [],
   "source": [
    "predictor.delete_model()"
   ]
  }
 ],
 "metadata": {
  "anaconda-cloud": {},
  "instance_type": "ml.t3.medium",
  "kernelspec": {
   "display_name": "Python 3 (Data Science)",
   "language": "python",
   "name": "python3__SAGEMAKER_INTERNAL__arn:aws:sagemaker:us-east-2:429704687514:image/datascience-1.0"
  },
  "language_info": {
   "codemirror_mode": {
    "name": "ipython",
    "version": 3
   },
   "file_extension": ".py",
   "mimetype": "text/x-python",
   "name": "python",
   "nbconvert_exporter": "python",
   "pygments_lexer": "ipython3",
   "version": "3.7.10"
  },
  "notice": "Copyright 2017 Amazon.com, Inc. or its affiliates. All Rights Reserved.  Licensed under the Apache License, Version 2.0 (the \"License\"). You may not use this file except in compliance with the License. A copy of the License is located at http://aws.amazon.com/apache2.0/ or in the \"license\" file accompanying this file. This file is distributed on an \"AS IS\" BASIS, WITHOUT WARRANTIES OR CONDITIONS OF ANY KIND, either express or implied. See the License for the specific language governing permissions and limitations under the License."
 },
 "nbformat": 4,
 "nbformat_minor": 4
}
