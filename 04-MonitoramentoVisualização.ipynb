{
 "cells": [
  {
   "cell_type": "markdown",
   "metadata": {},
   "source": [
    "# SageMaker Model Monitor - visualização dos resultados do monitoramento\n",
    "\n",
    "\n",
    "O contêiner pré-construído do SageMaker calcula uma variedade de estatísticas e avalia as restrições fora da caixa. Este notebook demonstra como você pode visualizá-los. Você pode pegar o arn ProcessingJob das execuções por trás de um MonitoringSchedule e usar este bloco de notas para visualizar os resultados.\n",
    "\n",
    "Vamos importar algumas bibliotecas Python que serão úteis para visualização"
   ]
  },
  {
   "cell_type": "code",
   "execution_count": null,
   "metadata": {},
   "outputs": [],
   "source": [
    "!pip install numpy==1.16.5"
   ]
  },
  {
   "cell_type": "code",
   "execution_count": null,
   "metadata": {},
   "outputs": [],
   "source": [
    "from IPython.display import HTML, display\n",
    "import json\n",
    "import os\n",
    "import boto3\n",
    "\n",
    "import sagemaker\n",
    "from sagemaker import session\n",
    "from sagemaker.model_monitor import MonitoringExecution\n",
    "from sagemaker.s3 import S3Downloader\n",
    "\n",
    "# As funções para plotar e renderizar estatísticas de distribuição ou violações de restrição são implementadas em um arquivo `utils`, então vamos carregá-lo.\n",
    "import utils as mu\n",
    "\n",
    "import numpy as np\n",
    "np.version.version"
   ]
  },
  {
   "cell_type": "markdown",
   "metadata": {},
   "source": [
    "## Obtenção de detalhes de execução e baseline (linha de base).\n",
    "\n",
    "Insira o arn ProcessingJob para uma execução de um MonitoringSchedule abaixo para obter os arquivos de resultado associados a essa execução\n",
    "\n",
    "A cada hora, um novo Job será gerado."
   ]
  },
  {
   "cell_type": "code",
   "execution_count": null,
   "metadata": {},
   "outputs": [],
   "source": [
    "processing_job_arn = \"arn:aws:sagemaker:us-east-2:325011675573:processing-job/model-monitoring-202109162000-59267aaa148be3caa6ccf9f0\""
   ]
  },
  {
   "cell_type": "code",
   "execution_count": null,
   "metadata": {},
   "outputs": [],
   "source": [
    "execution = MonitoringExecution.from_processing_arn(\n",
    "    sagemaker_session=session.Session(), processing_job_arn=processing_job_arn\n",
    ")\n",
    "exec_inputs = {inp[\"InputName\"]: inp for inp in execution.describe()[\"ProcessingInputs\"]}\n",
    "exec_results = execution.output.destination"
   ]
  },
  {
   "cell_type": "code",
   "execution_count": null,
   "metadata": {},
   "outputs": [],
   "source": [
    "baseline_statistics_filepath = (\n",
    "    exec_inputs[\"baseline\"][\"S3Input\"][\"S3Uri\"] if \"baseline\" in exec_inputs else None\n",
    ")\n",
    "execution_statistics_filepath = os.path.join(exec_results, \"statistics.json\")\n",
    "violations_filepath = os.path.join(exec_results, \"constraint_violations.json\")\n",
    "\n",
    "baseline_statistics = (\n",
    "    json.loads(S3Downloader.read_file(baseline_statistics_filepath))\n",
    "    if baseline_statistics_filepath is not None\n",
    "    else None\n",
    ")\n",
    "execution_statistics = json.loads(S3Downloader.read_file(execution_statistics_filepath))\n",
    "violations = json.loads(S3Downloader.read_file(violations_filepath))[\"violations\"]"
   ]
  },
  {
   "cell_type": "code",
   "execution_count": null,
   "metadata": {},
   "outputs": [],
   "source": [
    "execution_statistics_filepath"
   ]
  },
  {
   "cell_type": "markdown",
   "metadata": {},
   "source": [
    "## Visão geral\n",
    "\n",
    "O código abaixo mostra as violações e verificações de restrição em todos os recursos em uma tabela simples."
   ]
  },
  {
   "cell_type": "code",
   "execution_count": null,
   "metadata": {},
   "outputs": [],
   "source": [
    "mu.show_violation_df(\n",
    "    baseline_statistics=baseline_statistics,\n",
    "    latest_statistics=execution_statistics,\n",
    "    violations=violations,\n",
    ")"
   ]
  },
  {
   "cell_type": "markdown",
   "metadata": {},
   "source": [
    "## Distribuições\n",
    "\n",
    "Esta seção visualiza a distribuição e renderiza as estatísticas de distribuição para todos os recursos"
   ]
  },
  {
   "cell_type": "code",
   "execution_count": null,
   "metadata": {},
   "outputs": [],
   "source": [
    "features = mu.get_features(execution_statistics)\n",
    "feature_baselines = mu.get_features(baseline_statistics)"
   ]
  },
  {
   "cell_type": "code",
   "execution_count": null,
   "metadata": {},
   "outputs": [],
   "source": [
    "mu.show_distributions(features)"
   ]
  },
  {
   "cell_type": "markdown",
   "metadata": {},
   "source": [
    "### Estatísticas de execução vs baseline"
   ]
  },
  {
   "cell_type": "code",
   "execution_count": null,
   "metadata": {},
   "outputs": [],
   "source": [
    "mu.show_distributions(features, feature_baselines)"
   ]
  },
  {
   "cell_type": "code",
   "execution_count": null,
   "metadata": {},
   "outputs": [],
   "source": []
  }
 ],
 "metadata": {
  "instance_type": "ml.t3.medium",
  "kernelspec": {
   "display_name": "Python 3 (Data Science)",
   "language": "python",
   "name": "python3__SAGEMAKER_INTERNAL__arn:aws:sagemaker:us-east-2:429704687514:image/datascience-1.0"
  },
  "language_info": {
   "codemirror_mode": {
    "name": "ipython",
    "version": 3
   },
   "file_extension": ".py",
   "mimetype": "text/x-python",
   "name": "python",
   "nbconvert_exporter": "python",
   "pygments_lexer": "ipython3",
   "version": "3.7.10"
  }
 },
 "nbformat": 4,
 "nbformat_minor": 4
}
